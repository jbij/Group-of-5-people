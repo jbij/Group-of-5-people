{
 "cells": [
  {
   "attachments": {},
   "cell_type": "markdown",
   "metadata": {},
   "source": [
    "#### Imports"
   ]
  },
  {
   "cell_type": "code",
   "execution_count": 1,
   "metadata": {},
   "outputs": [],
   "source": [
    "import pandas as pd\n",
    "import numpy as np  \n",
    "import os\n",
    "import matplotlib.pyplot as plt\n",
    "import math\n",
    "from PIL import Image, ImageOps\n",
    "\n",
    "from skimage import morphology\n",
    "from skimage import io\n",
    "from skimage.segmentation import slic, mark_boundaries\n",
    "\n",
    "#from os.path import exists\n",
    "\n",
    "#from pathlib import Path\n",
    "\n",
    "\n",
    "\n",
    "\n",
    "# Default packages for the minimum example\n",
    "from sklearn.neighbors import KNeighborsClassifier\n",
    "from sklearn.model_selection import GroupKFold\n",
    "from sklearn.metrics import accuracy_score #example for measuring performance\n",
    "\n",
    "\n",
    "import pickle #for saving/loading trained classifiers"
   ]
  },
  {
   "attachments": {},
   "cell_type": "markdown",
   "metadata": {},
   "source": [
    "#### Data"
   ]
  },
  {
   "cell_type": "code",
   "execution_count": 2,
   "metadata": {},
   "outputs": [],
   "source": [
    "file_data = 'data/metadata.csv'\n",
    "path_image =  'data/images'\n",
    "path_mask = 'data/masks'\n",
    "path_masked_image = 'data/masked_images'\n",
    "file_features = 'features/features.csv'\n",
    "\n",
    "images_id = os.listdir(path_image)\n",
    "images_id.remove('.gitkeep')\n",
    "\n",
    "#Read meta-data into a Pandas dataframe\n",
    "metadata = pd.read_csv(file_data)\n",
    "\n",
    "# Extract image IDs and labels from the data. \n",
    "#image_id = list(metadata['img_id'])\n",
    "#label = np.array(metadata['diagnostic'])"
   ]
  },
  {
   "attachments": {},
   "cell_type": "markdown",
   "metadata": {},
   "source": [
    "### Feature measurements functions"
   ]
  },
  {
   "cell_type": "code",
   "execution_count": 5,
   "metadata": {},
   "outputs": [
    {
     "name": "stdout",
     "output_type": "stream",
     "text": [
      "Error: image .gitkeep not found in data/images\n"
     ]
    }
   ],
   "source": [
    "def create_masked_image(path_image, path_mask, path_masked_image, img_filename):\n",
    "    \"\"\"\n",
    "    This function takes in the paths to the images folder, masks folder and \n",
    "    masked images folder, and the filename of the image to be masked, and creates \n",
    "    a masked image for the specified image using the corresponding mask in the masks folder.\n",
    "    \"\"\"\n",
    "    # Create the masked images folder if it does not exist\n",
    "    if not os.path.exists(path_masked_image):\n",
    "        os.makedirs(path_masked_image)\n",
    "\n",
    "    # Loop through the images folder\n",
    "    for filename in os.listdir(path_image):\n",
    "        if filename == img_filename and filename.endswith('.png'): # adjust file extension as needed\n",
    "            img_path = os.path.join(path_image, filename)\n",
    "            mask_filename = f\"mask_{filename}\"\n",
    "            mask_path = os.path.join(path_mask, mask_filename)\n",
    "            # Load the image and mask\n",
    "            img = Image.open(img_path)\n",
    "            mask = Image.open(mask_path).convert('L')\n",
    "            # Apply the mask on the image\n",
    "            masked_img = Image.composite(img, Image.new('RGB', img.size, (0, 0, 0)), mask)\n",
    "            # Save the masked image\n",
    "            masked_filename = f\"masked_{filename}\"\n",
    "            masked_img.save(os.path.join(path_masked_image, masked_filename))\n",
    "            return # exit the function after creating the masked image\n",
    "\n",
    "    # If the specified image filename was not found\n",
    "    print(f\"Error: image {img_filename} not found in {path_image}\")\n",
    "\n",
    "# Loop through the images folder and create a masked image for each image\n",
    "for filename in os.listdir(path_image):\n",
    "    create_masked_image(path_image, path_mask, path_masked_image, filename)\n",
    "\n",
    "# PAT_672_1272_705 <> faulty image, because of extra space in the name"
   ]
  },
  {
   "cell_type": "code",
   "execution_count": 4,
   "metadata": {},
   "outputs": [],
   "source": [
    "''' ASYMMETRY '''  #Okkkk\n",
    "\n",
    "def fix_mask(mask):\n",
    "    '''Turns a mask into only black(0) or white(255) pixel values. Put the leison in the\n",
    "     center of the image '''\n",
    "\n",
    "    #Make it purely black and white\n",
    "    bw = np.asarray(mask).copy()\n",
    "    bw[bw <255] = 0\n",
    "    mask = Image.fromarray(bw)\n",
    "    \n",
    "    #Crop the leison \n",
    "    mask_bw = np.where(np.array(mask)==255, 1, 0) #2d array with 0 on black and 1 on white\n",
    "\n",
    "    row_index =  np.where(np.sum(mask_bw, axis=1)>0)[0] #all the rows with at least one white element \n",
    "    first_row , last_row = row_index[0] , row_index[-1]  #first and last row \n",
    "    if (last_row - first_row) %2 != 0:\n",
    "        last_row += 1 #one extra row to make it even and able to halve it\n",
    "\n",
    "    col_index =  np.where(np.sum(mask_bw, axis=0)>0)[0] #all the col with at least one white element \n",
    "    first_col , last_col = col_index[0] , col_index[-1]  #first and last col \n",
    "    if (last_col - first_col) %2 != 0:\n",
    "        last_col += 1\n",
    "\n",
    "    cropped_mask = mask.crop((first_col,first_row,last_col,last_row))\n",
    "\n",
    "    #Add borders\n",
    "    old_width , old_height = cropped_mask.size \n",
    "    fixed_mask = ImageOps.expand(cropped_mask, border = int(old_width/2))\n",
    "\n",
    "    return fixed_mask\n",
    "\n",
    "\n",
    "def test_asymmetry(mask):\n",
    "    '''Takes a mask image, halves it vertically, compares both sides. Returns an index of asymmetry \n",
    "    as the proportion of leisure that differs on both sides over the total leison'''\n",
    "\n",
    "    width,height = mask.size\n",
    "\n",
    "    #Cut in half\n",
    "    left = mask.crop((0, 0, int(width/2), height)) #left part of picture (left, top, right, bottom)\n",
    "    right = mask.crop((int(width/2), 0, width, height)) #right part of picture\n",
    "    right = right.transpose(Image.FLIP_LEFT_RIGHT) #flip right part to compare\n",
    "\n",
    "    #Compairing both sides\n",
    "    asym = np.sum(np.where(np.array(left) != np.array(right), 1, 0))\n",
    "    total_white = np.sum(np.where(np.array(mask)==255, 1, 0))\n",
    "   \n",
    "    return round((asym/total_white), 3) #Maybe *10 ??? Very small number \n",
    "\n",
    "\n",
    "def get_asymmetry(mask):\n",
    "    '''Returns the asymmetry for a given leison by rotating the mask image by several angles, measuring \n",
    "     the proportion of asymmetry on each, and returning the minimum index. '''\n",
    "    \n",
    "    #Leison in the center of the image. Expand black borders to give freedom when rotating image. \n",
    "    mask = fix_mask(mask)\n",
    "\n",
    "    asym = [test_asymmetry(mask.rotate(angle)) for angle in [0,15,30,45,60,75,90]]\n",
    "\n",
    "    return round(np.min(asym), 3)\n",
    "\n",
    "\n"
   ]
  },
  {
   "cell_type": "code",
   "execution_count": 5,
   "metadata": {},
   "outputs": [],
   "source": [
    "def get_color_variability(masked_image, measure='variance'):\n",
    "    # Find the non-black pixels (i.e., the lesion pixels)\n",
    "    non_black_pixels = np.where(np.any(masked_image > 0, axis=-1))\n",
    "\n",
    "    # Extract the color values of the non-black pixels\n",
    "    r = masked_image[non_black_pixels][:, 0]\n",
    "    g = masked_image[non_black_pixels][:, 1]\n",
    "    b = masked_image[non_black_pixels][:, 2]\n",
    "\n",
    "    # Divide the lesion pixels into segments of similar color\n",
    "    segments_slic = slic(masked_image[non_black_pixels], n_segments=50, compactness=10, sigma=3, start_label=1)\n",
    "\n",
    "    # Compute the color variability for each segment that is within the lesion\n",
    "    segment_color_variability = []\n",
    "    for i in range(1, np.max(segments_slic) + 1):\n",
    "        segment_pixels = np.where(segments_slic == i)[0]\n",
    "        segment_r = r[segment_pixels]\n",
    "        segment_g = g[segment_pixels]\n",
    "        segment_b = b[segment_pixels]\n",
    "\n",
    "        if measure == 'variance':\n",
    "            rgb_variability = (np.var(segment_r), np.var(segment_g), np.var(segment_b))\n",
    "        elif measure == 'standard_deviation':\n",
    "            rgb_variability = (np.std(segment_r), np.std(segment_g), np.std(segment_b))\n",
    "        else:\n",
    "            return None\n",
    "\n",
    "        segment_color_variability.append(np.mean(rgb_variability))\n",
    "\n",
    "    return np.mean(segment_color_variability)\n"
   ]
  },
  {
   "cell_type": "code",
   "execution_count": null,
   "metadata": {},
   "outputs": [],
   "source": [
    "def get_color_variability(masked_image, measure='variance'):\n",
    "    # Find the non-black pixels (i.e., the lesion pixels)\n",
    "    non_black_pixels = np.where(np.any(masked_image > 0, axis=-1))\n",
    "\n",
    "    # Extract the color values of the non-black pixels\n",
    "    r = masked_image[non_black_pixels][:, 0]\n",
    "    g = masked_image[non_black_pixels][:, 1]\n",
    "    b = masked_image[non_black_pixels][:, 2]\n",
    "\n",
    "    # Divide the lesion pixels into segments of similar color\n",
    "    segments_slic = slic(masked_image[non_black_pixels], n_segments=50, compactness=10, sigma=3, start_label=1)\n",
    "\n",
    "    # Compute the color variability for each segment that is within the lesion\n",
    "    segment_color_variability_r = []\n",
    "    segment_color_variability_g = []\n",
    "    segment_color_variability_b = []\n",
    "    for i in range(1, np.max(segments_slic) + 1):\n",
    "        segment_pixels = np.where(segments_slic == i)[0]\n",
    "        segment_r = r[segment_pixels]\n",
    "        segment_g = g[segment_pixels]\n",
    "        segment_b = b[segment_pixels]\n",
    "\n",
    "        if measure == 'variance':\n",
    "            rgb_variability = (np.var(segment_r), np.var(segment_g), np.var(segment_b))\n",
    "        elif measure == 'standard_deviation':\n",
    "            rgb_variability = (np.std(segment_r), np.std(segment_g), np.std(segment_b))\n",
    "        else:\n",
    "            return None\n",
    "\n",
    "        segment_color_variability_r.append(rgb_variability[0])\n",
    "        segment_color_variability_g.append(rgb_variability[1])\n",
    "        segment_color_variability_b.append(rgb_variability[2])\n",
    "\n",
    "    return np.mean(segment_color_variability_r), np.mean(segment_color_variability_g), np.mean(segment_color_variability_b)\n"
   ]
  },
  {
   "cell_type": "code",
   "execution_count": 6,
   "metadata": {},
   "outputs": [],
   "source": [
    "####### BORDER #########\n",
    "\n",
    "def area_perimeter(mask): \n",
    "    '''Measures the area and perimeter of a mask image'''\n",
    "\n",
    "    mask = np.array(mask)\n",
    "    mask = np.where(mask==255, 1, 0)\n",
    "\n",
    "    #area: the sum of all white pixels in the mask image\n",
    "    area = np.sum(mask)\n",
    "\n",
    "    #perimeter: first find which pixels belong to the perimeter.\n",
    "    struct_el = morphology.disk(1)\n",
    "    mask_eroded = morphology.binary_erosion(mask, struct_el)\n",
    "    image_perimeter = mask - mask_eroded\n",
    "    perimeter = np.sum(image_perimeter)\n",
    "\n",
    "    return area, perimeter\n",
    "\n",
    " \n",
    "def get_compactness(mask):\n",
    "    '''Computes and returns the compactness of a figure'''\n",
    "\n",
    "    area, perimeter = area_perimeter(mask)\n",
    "\n",
    "    return round( (perimeter ** 2) /(4* np.pi *area), 4)\n"
   ]
  },
  {
   "attachments": {},
   "cell_type": "markdown",
   "metadata": {},
   "source": [
    "### Measuring features ---> csv"
   ]
  },
  {
   "cell_type": "code",
   "execution_count": null,
   "metadata": {},
   "outputs": [],
   "source": [
    "''''For quick testing of functions. Delete after '''\n",
    "\n",
    "data = {'images_id': images_id, 'asym': [],'area/perimeter': [] ,'compactness' : []}\n",
    "\n",
    "for i, image in enumerate(images_id):\n",
    "\n",
    "    #Read image and mask\n",
    "    file_image = path_image + '/' + image\n",
    "    #im = plt.imread(file_image)\n",
    "    im = Image.open(file_image) #I've been using this for asymm\n",
    "    im_np = np.float16(im)\n",
    "\n",
    "    file_mask = path_mask + '/mask_' + image\n",
    "    #mask = plt.imread(file_mask)\n",
    "    mask = Image.open(file_mask) #I've been using this for asymm\n",
    "    mask_np = np.float16(mask)\n",
    "\n",
    "    data['asym'].append(get_asymmetry(mask))\n",
    "    data['area/perimeter'].append(area_perimeter(mask))\n",
    "    data['compactness'].append(get_compactness(mask))\n",
    "\n",
    "df = pd.DataFrame(data)\n",
    "    \n",
    "df\n",
    "#ex_mask = Image.open(path_mask + '/mask_' + images_id[-1])\n",
    "#fix_mask(ex_mask)"
   ]
  },
  {
   "cell_type": "code",
   "execution_count": 18,
   "metadata": {},
   "outputs": [
    {
     "name": "stderr",
     "output_type": "stream",
     "text": [
      "C:\\Users\\raivi\\AppData\\Local\\Temp\\ipykernel_28656\\3605390448.py:43: DeprecationWarning: FLIP_LEFT_RIGHT is deprecated and will be removed in Pillow 10 (2023-07-01). Use Transpose.FLIP_LEFT_RIGHT instead.\n",
      "  right = right.transpose(Image.FLIP_LEFT_RIGHT) #flip right part to compare\n"
     ]
    }
   ],
   "source": [
    "''''  OK   '''\n",
    "\n",
    "# Create an empty dataframe to store the features, save index as image_id\n",
    "features = pd.DataFrame(index=images_id)\n",
    "\n",
    "# Create columns image_id, asymmetry, color_variability, and compactness\n",
    "features['image_id'] = images_id\n",
    "features['asymmetry'] = [get_asymmetry(Image.open(path_mask + '/mask_' + image)) for image in images_id]\n",
    "features['color_variability'] = [get_color_variability(np.array(Image.open(path_image + '/' + image)), measure='variance') for image in images_id]\n",
    "features['compactness'] = [get_compactness(Image.open(path_mask + '/mask_' + image)) for image in images_id]\n",
    "# Add a column for the diagnosis called 'diagnostic' and take the values from the 'diagnostic' column in the metadata dataframe based on common values in left dataframe from column \"image_id\" and right dataframe \"img_id\"\n",
    "features['diagnostic'] = features['image_id'].map(metadata.set_index('img_id')['diagnostic'])\n",
    "# Add a column called 'healthy' that is 1 if the diagnostic is in [\"NEV\", \"SEK\", \"ACK\"] and 0 if it is [\"MEL\", \"SCC\", \"BCC\"]\n",
    "features['healthy'] = features['diagnostic'].isin([\"NEV\", \"SEK\", \"ACK\"]).astype(int)\n",
    "\n",
    "# Save the features dataframe to csv file\n",
    "features.to_csv('features.csv', index=False)"
   ]
  },
  {
   "attachments": {},
   "cell_type": "markdown",
   "metadata": {},
   "source": [
    "### Train classifiers"
   ]
  },
  {
   "cell_type": "code",
   "execution_count": 10,
   "metadata": {},
   "outputs": [
    {
     "name": "stdout",
     "output_type": "stream",
     "text": [
      "ACK 0.31766753698868583\n",
      "BCC 0.3677110530896432\n",
      "MEL 0.022628372497824196\n",
      "NEV 0.1061792863359443\n",
      "SCC 0.0835509138381201\n",
      "SEK 0.10226283724978243\n"
     ]
    },
    {
     "data": {
      "image/png": "[encoded data removed]",
      "text/plain": [
       "<Figure size 640x480 with 1 Axes>"
      ]
     },
     "metadata": {},
     "output_type": "display_data"
    }
   ],
   "source": [
    "bum = pd.read_csv('data/metadata.csv')\n",
    "\n",
    "# get unique values of column \"diagnostic\" and calculate percentages of each values in the set\n",
    "# and plot the percentages\n",
    "diagnostic = bum['diagnostic']\n",
    "unique, counts = np.unique(diagnostic, return_counts=True)\n",
    "percentages = counts/len(diagnostic)\n",
    "plt.bar(unique, percentages)\n",
    "\n",
    "# print the percentages\n",
    "for i, unique_value in enumerate(unique):\n",
    "    print(unique_value, percentages[i])\n",
    "\n",
    "# convert to percentages\n",
    "percentages = percentages * 100"
   ]
  },
  {
   "cell_type": "code",
   "execution_count": 49,
   "metadata": {},
   "outputs": [
    {
     "data": {
      "text/plain": [
       "0       PAT_1516\n",
       "1         PAT_46\n",
       "2       PAT_1545\n",
       "3       PAT_1989\n",
       "4        PAT_684\n",
       "          ...   \n",
       "2293    PAT_1708\n",
       "2294      PAT_46\n",
       "2295    PAT_1343\n",
       "2296     PAT_326\n",
       "2297    PAT_1714\n",
       "Name: patient_id, Length: 2298, dtype: object"
      ]
     },
     "execution_count": 49,
     "metadata": {},
     "output_type": "execute_result"
    }
   ],
   "source": [
    "# Load the features - remember the example features are not informative\n",
    "df_features = pd.read_csv(file_features)\n",
    "\n",
    "\n",
    "# Make the dataset, you can select different classes (see task 0)\n",
    "x = np.array(df_features[feature_names])\n",
    "#y =  label == 'NEV'   #now True means healthy nevus, False means something else\n",
    "patient_id = metadata['patient_id']\n",
    "\n",
    "patient_id\n",
    "\n",
    "\n",
    "\n"
   ]
  },
  {
   "attachments": {},
   "cell_type": "markdown",
   "metadata": {},
   "source": [
    "### Evaluate classifier"
   ]
  },
  {
   "cell_type": "code",
   "execution_count": null,
   "metadata": {},
   "outputs": [],
   "source": [
    "'''This is still copy/paste Veronika's --- still need changes '''\n",
    "\n",
    "\n",
    "# The function that should classify new images. \n",
    "# The image and mask are the same size, and are already loaded using plt.imread\n",
    "def classify(img, mask):\n",
    "    \n",
    "    \n",
    "     #Resize the image etc, if you did that during training\n",
    "    \n",
    "     #Extract features (the same ones that you used for training)\n",
    "     x = extract_features(img, mask)\n",
    "         \n",
    "     \n",
    "     #Load the trained classifier\n",
    "     classifier = pickle.load(open('groupXY_classifier.sav', 'rb'))\n",
    "    \n",
    "    \n",
    "     #Use it on this example to predict the label AND posterior probability\n",
    "     pred_label = classifier.predict(x)\n",
    "     pred_prob = classifier.predict_proba(x)\n",
    "     \n",
    "     \n",
    "     #print('predicted label is ', pred_label)\n",
    "     #print('predicted probability is ', pred_prob)\n",
    "     return pred_label, pred_prob\n",
    " \n",
    "    \n",
    "# The TAs will call the function above in a loop, for external test images/masks"
   ]
  },
  {
   "cell_type": "code",
   "execution_count": null,
   "metadata": {},
   "outputs": [],
   "source": [
    "'''holaaaaa'''"
   ]
  }
 ],
 "metadata": {
  "kernelspec": {
   "display_name": "Python 3.9.12 ('base')",
   "language": "python",
   "name": "python3"
  },
  "language_info": {
   "codemirror_mode": {
    "name": "ipython",
    "version": 3
   },
   "file_extension": ".py",
   "mimetype": "text/x-python",
   "name": "python",
   "nbconvert_exporter": "python",
   "pygments_lexer": "ipython3",
   "version": "3.9.12"
  },
  "orig_nbformat": 4,
  "vscode": {
   "interpreter": {
    "hash": "273f1963ce8ee34294adeb0a0f10bbcb4bc44fb7ad1699b470b82ebc04d31cc2"
   }
  }
 },
 "nbformat": 4,
 "nbformat_minor": 2
}
