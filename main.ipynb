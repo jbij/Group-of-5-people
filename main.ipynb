{
 "cells": [
  {
   "cell_type": "markdown",
   "metadata": {},
   "source": [
    "#### Imports"
   ]
  },
  {
   "cell_type": "code",
   "execution_count": 3,
   "metadata": {},
   "outputs": [],
   "source": [
    "# import of our functionality\n",
    "from src.symmetry import get_symmetry\n",
    "\n",
    "# import of external libs\n",
    "import pandas as pd"
   ]
  },
  {
   "cell_type": "markdown",
   "metadata": {},
   "source": [
    "### Feature extraction"
   ]
  },
  {
   "cell_type": "code",
   "execution_count": 2,
   "metadata": {},
   "outputs": [
    {
     "name": "stdout",
     "output_type": "stream",
     "text": [
      "Hello from symmetry\n"
     ]
    }
   ],
   "source": [
    "data = []\n",
    "\n",
    "\"\"\"Pseudo code\n",
    "extractors = [get_symmetry]\n",
    "feature_names = [symmetry, ...]\n",
    "for image in images:\n",
    "    features = []\n",
    "    mask = load_mask()\n",
    "    for feature_extractor in extractors:\n",
    "        v = feature_extractor(mask, image)\n",
    "        features.append(v)\n",
    "    \n",
    "    data.append(features)\n",
    "\n",
    "\n",
    "# Save the features to csv\n",
    "df = pd.DataFrame(features, columns = feature_names)\n",
    "df.to_csv(os.path.join(data/transformed/features.csv))\n",
    "\"\"\""
   ]
  },
  {
   "cell_type": "code",
   "execution_count": null,
   "metadata": {},
   "outputs": [],
   "source": []
  }
 ],
 "metadata": {
  "kernelspec": {
   "display_name": "Python 3.9.12 ('base')",
   "language": "python",
   "name": "python3"
  },
  "language_info": {
   "codemirror_mode": {
    "name": "ipython",
    "version": 3
   },
   "file_extension": ".py",
   "mimetype": "text/x-python",
   "name": "python",
   "nbconvert_exporter": "python",
   "pygments_lexer": "ipython3",
   "version": "3.9.12"
  },
  "orig_nbformat": 4,
  "vscode": {
   "interpreter": {
    "hash": "273f1963ce8ee34294adeb0a0f10bbcb4bc44fb7ad1699b470b82ebc04d31cc2"
   }
  }
 },
 "nbformat": 4,
 "nbformat_minor": 2
}
