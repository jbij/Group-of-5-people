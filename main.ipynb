{
 "cells": [
  {
   "attachments": {},
   "cell_type": "markdown",
   "metadata": {},
   "source": [
    "#### Imports"
   ]
  },
  {
   "cell_type": "code",
   "execution_count": 5,
   "metadata": {},
   "outputs": [],
   "source": [
    "# import of our functionality\n",
    "#from src.symmetry import get_symmetry\n",
    "\n",
    "# import of external libs\n",
    "import pandas as pd\n",
    "import numpy as np  \n",
    "import os\n",
    "import matplotlib.pyplot as plt\n",
    "\n",
    "from os.path import exists\n",
    "\n",
    "from pathlib import Path\n",
    "\n",
    "from PIL import Image\n"
   ]
  },
  {
   "cell_type": "code",
   "execution_count": null,
   "metadata": {},
   "outputs": [],
   "source": [
    "#images = [image for image in os.listdir('../data/images/')]\n",
    "\n",
    "file_data = '..' + os.sep + 'data' + os.sep +'metadata.csv'\n",
    "path_image = '..' + os.sep + 'data' + os.sep + 'images' #we have to change it ---> delete raw folder\n",
    "\n",
    "#Where we will store the features\n",
    "file_features = 'features/features.csv'\n",
    "\n",
    "#Read meta-data into a Pandas dataframe\n",
    "metadata = pd.read_csv(file_data)\n",
    "\n",
    "images_id = list(metadata['img_id'])\n",
    "\n",
    "\n",
    "\n",
    "#Read meta-data into a Pandas dataframe\n",
    "#metadata = pd.read_csv(file_data)\n",
    "\n",
    "# Extract image IDs and labels from the data. \n",
    "#image_id = list(metadata['img_id'])\n",
    "#label = np.array(metadata['diagnostic'])\n"
   ]
  },
  {
   "cell_type": "code",
   "execution_count": 1,
   "metadata": {},
   "outputs": [],
   "source": [
    "############ SYMMETRY ###############\n",
    "\n",
    "def crop_leison(mask):\n",
    "    #Takes the mask image and returns the only the leison \n",
    "\n",
    "    mask_array = np.where(np.array(mask)==255, 1, 0) #2d array with 0 on black an 1 on white\n",
    "    \n",
    "    row_index =  np.where(np.sum(mask_array, axis=1)>0)[0] #all the rows with at least one white element \n",
    "    first_row , last_row = row_index[0] , row_index[-1]  #first and last row \n",
    "    if (last_row - first_row) %2 != 0:\n",
    "        last_row += 1 #one extra row to make it even and able to halve it\n",
    "\n",
    "    col_index =  np.where(np.sum(mask_array, axis=0)>0)[0] #all the col with at least one white element \n",
    "    first_col , last_col = col_index[0] , col_index[-1]  #first and last col \n",
    "    if (last_col - first_col) %2 != 0:\n",
    "        last_col += 1\n",
    "\n",
    "    #center of the leison \n",
    "    #xy_center = ((first_col + last_col)/2 , (first_row + last_row)/2) \n",
    "\n",
    "    cropped_mask = mask.crop((first_col,first_row,last_col,last_row))\n",
    "\n",
    "    return(cropped_mask)\n",
    "\n",
    "def make_bw(mask):\n",
    "    '''Turns a mask into only black(0) or white(255) pixel values'''\n",
    "        #why our masks aren't totally bw after labelstudio????\n",
    "\n",
    "    bw= np.asarray(mask).copy()\n",
    "    bw[bw<128] = 0\n",
    "    bw[bw >= 128] = 255\n",
    "\n",
    "    return Image.fromarray(bw)\n",
    "\n",
    "def test_assymetry(c_mask):\n",
    "    #my cropped mask is already even\n",
    "\n",
    "    width,height = c_mask.size\n",
    "    #cut in half and fold\n",
    "    left = c_mask.crop((0, 0, int(width/2), height)) #left part of picture (left, top, right, bottom)\n",
    "    right = c_mask.crop((int(width/2), 0, width, height)) #right part of picture\n",
    "    right = right.transpose(Image.FLIP_LEFT_RIGHT) #flip right part to compare\n",
    "\n",
    "    #difference in both sides\n",
    "    asym = np.sum(np.where(np.array(left) != np.array(right), 1, 0))\n",
    "    total_white = (np.sum(np.array(left) + np.array(right)))/255 \n",
    "   \n",
    "    return round((asym/total_white) , 3) #the percentage of asymmetry \n",
    "        #is it correct to do different/white instead of /total = ((width*height)/2)\n",
    "\n",
    "\n",
    "\n",
    "def get_asymmetry(mask):\n",
    "    '''Returns the asymmetry for a given mask by folding it in half from multiple angles'''\n",
    "\n",
    "    #Need to expand the image to avoid missing part of the leison when rotating the image !!!!\n",
    "    old_width , old_height = mask.size \n",
    "    expanded_im = ImageOps.expand(mask, border = int(old_width/2))\n",
    "\n",
    "    assym = [test_assymetry(expanded_im.rotate(angle)) for angle in [0,45,90]]   #those angles??\n",
    "\n",
    "    return round(np.mean(assym), 3)  #mean or min???\n",
    "\n",
    "\n"
   ]
  },
  {
   "cell_type": "code",
   "execution_count": null,
   "metadata": {},
   "outputs": [],
   "source": [
    "def remove_alpha_channel(image):\n",
    "    if image.shape[-1] == 4:  # check if there is a 4th channel (alpha)\n",
    "        image = image[..., :3]  # remove the 4th channel\n",
    "    return image"
   ]
  },
  {
   "cell_type": "code",
   "execution_count": null,
   "metadata": {},
   "outputs": [],
   "source": [
    "# average color\n",
    "def get_average_color(masked_image): # image needs to be masked\n",
    "    r, g, b = masked_image.split() # converting to separate channels  \n",
    "    r= np.array(r)\n",
    "    g= np.array(g)\n",
    "    b= np.array(b) \n",
    "    return [round(np.mean(r[r > 0])),round(np.mean(g[g > 0])),round(np.mean(b[b > 0]))]\n",
    "\n",
    "\n",
    "# color variability\n",
    "def get_color_variability(masked_image, measure='variance'): # image needs to be masked\n",
    "    r, g, b = masked_image.split() # converting to separate channels  \n",
    "    r= np.array(r) \n",
    "    g= np.array(g)\n",
    "    b= np.array(b) \n",
    "    if measure == 'variance': rgb=(np.var(r[r > 0]),np.var(g[g > 0]),np.var(b[b > 0]))\n",
    "    elif measure == 'standard_deviation': rgb=(np.std(r[r > 0]),np.std(g[g > 0]),np.std(b[b > 0]))\n",
    "    else: return \n",
    "    return np.mean(rgb)"
   ]
  },
  {
   "cell_type": "code",
   "execution_count": null,
   "metadata": {},
   "outputs": [],
   "source": [
    "####### BORDER #########\n",
    "\n",
    "def area_perimeter(mask): \n",
    "    '''Measures the area and perimeter of a mask image'''\n",
    "\n",
    "    #area: the sum of all white pixels in the mask image\n",
    "    area = np.sum(np.where(np.array(mask)==255, 1, 0))\n",
    "\n",
    "    #perimeter: first find which pixels belong to the perimeter.\n",
    "    struct_el = morphology.disk(1)\n",
    "    mask_eroded = morphology.binary_erosion(mask, struct_el)\n",
    "    image_perimeter = mask - mask_eroded\n",
    "\n",
    "    #now we have the perimeter image, the sum of all white pixels in it\n",
    "    perimeter = np.sum(image_perimeter)\n",
    "\n",
    "    return area, perimeter\n",
    "\n",
    " \n",
    "def get_compactness(mask):\n",
    "    '''Computes and returns the compactness of a figure'''\n",
    "\n",
    "    area, perimeter = area_perimeter(mask)\n",
    "\n",
    "    return round(4*np.pi*area / perimeter ** 2, 4)\n",
    "\n",
    "\n",
    "get_compactness(mask)"
   ]
  },
  {
   "attachments": {},
   "cell_type": "markdown",
   "metadata": {},
   "source": [
    "### Feature extraction"
   ]
  },
  {
   "cell_type": "code",
   "execution_count": 2,
   "metadata": {},
   "outputs": [
    {
     "name": "stdout",
     "output_type": "stream",
     "text": [
      "Hello from symmetry\n"
     ]
    }
   ],
   "source": [
    "features = ['Asymmetry', 'Compactness', 'Color Variability']\n",
    "features_functions = ['total_asymmetry', xxx , xxxx]\n",
    "\n",
    "for image in images:\n",
    "    \n",
    "extractors = [get_symmetry]\n",
    "feature_names = [symmetry, ...]\n",
    "for image in images:\n",
    "    features = []\n",
    "    mask = load_mask()\n",
    "    for feature_extractor in extractors:\n",
    "        v = feature_extractor(mask, image)\n",
    "        features.append(v)\n",
    "    \n",
    "    data.append(features)\n",
    "\n",
    "\n",
    "# Save the features to csv\n",
    "df = pd.DataFrame(features, columns = feature_names)\n",
    "df.to_csv(os.path.join(data/transformed/features.csv))\n",
    "\"\"\""
   ]
  },
  {
   "cell_type": "code",
   "execution_count": null,
   "metadata": {},
   "outputs": [],
   "source": []
  }
 ],
 "metadata": {
  "kernelspec": {
   "display_name": "Python 3.9.12 ('base')",
   "language": "python",
   "name": "python3"
  },
  "language_info": {
   "codemirror_mode": {
    "name": "ipython",
    "version": 3
   },
   "file_extension": ".py",
   "mimetype": "text/x-python",
   "name": "python",
   "nbconvert_exporter": "python",
   "pygments_lexer": "ipython3",
   "version": "3.9.12"
  },
  "orig_nbformat": 4,
  "vscode": {
   "interpreter": {
    "hash": "273f1963ce8ee34294adeb0a0f10bbcb4bc44fb7ad1699b470b82ebc04d31cc2"
   }
  }
 },
 "nbformat": 4,
 "nbformat_minor": 2
}
